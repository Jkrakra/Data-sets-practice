{
 "cells": [
  {
   "cell_type": "code",
   "execution_count": 55,
   "id": "971f59b3-bd3b-4688-91e5-8292c0d3fb86",
   "metadata": {},
   "outputs": [
    {
     "data": {
      "text/html": [
       "<div>\n",
       "<style scoped>\n",
       "    .dataframe tbody tr th:only-of-type {\n",
       "        vertical-align: middle;\n",
       "    }\n",
       "\n",
       "    .dataframe tbody tr th {\n",
       "        vertical-align: top;\n",
       "    }\n",
       "\n",
       "    .dataframe thead th {\n",
       "        text-align: right;\n",
       "    }\n",
       "</style>\n",
       "<table border=\"1\" class=\"dataframe\">\n",
       "  <thead>\n",
       "    <tr style=\"text-align: right;\">\n",
       "      <th></th>\n",
       "      <th>order_id</th>\n",
       "      <th>product</th>\n",
       "      <th>quantity</th>\n",
       "      <th>unit_price</th>\n",
       "      <th>month</th>\n",
       "    </tr>\n",
       "  </thead>\n",
       "  <tbody>\n",
       "    <tr>\n",
       "      <th>0</th>\n",
       "      <td>1</td>\n",
       "      <td>Apple</td>\n",
       "      <td>10</td>\n",
       "      <td>0.5</td>\n",
       "      <td>jan</td>\n",
       "    </tr>\n",
       "    <tr>\n",
       "      <th>1</th>\n",
       "      <td>2</td>\n",
       "      <td>Banana</td>\n",
       "      <td>5</td>\n",
       "      <td>0.3</td>\n",
       "      <td>jan</td>\n",
       "    </tr>\n",
       "    <tr>\n",
       "      <th>2</th>\n",
       "      <td>3</td>\n",
       "      <td>Orange</td>\n",
       "      <td>8</td>\n",
       "      <td>0.4</td>\n",
       "      <td>jan</td>\n",
       "    </tr>\n",
       "  </tbody>\n",
       "</table>\n",
       "</div>"
      ],
      "text/plain": [
       "   order_id product  quantity  unit_price month\n",
       "0         1   Apple        10         0.5   jan\n",
       "1         2  Banana         5         0.3   jan\n",
       "2         3  Orange         8         0.4   jan"
      ]
     },
     "execution_count": 55,
     "metadata": {},
     "output_type": "execute_result"
    }
   ],
   "source": [
    "import pandas as pd\n",
    "import os\n",
    "feb=pd.read_csv(\"Desktop/Data science practice/sales_february.csv\")\n",
    "feb['month']=\"feb\"\n",
    "\n",
    "jan=pd.read_csv(\"Desktop/Data science practice/sales_january.csv\")\n",
    "jan[\"month\"]=\"jan\"\n",
    "jan"
   ]
  },
  {
   "cell_type": "code",
   "execution_count": 47,
   "id": "c45b6641-cce0-4bd9-ac42-2f9f9e1f4f75",
   "metadata": {},
   "outputs": [],
   "source": [
    "combined_sales=pd.concat([feb, jan],ignore_index=False)"
   ]
  },
  {
   "cell_type": "code",
   "execution_count": 49,
   "id": "6a6f722e-275f-44c0-8538-47e64e9f61bb",
   "metadata": {},
   "outputs": [],
   "source": [
    "combined_sales.reset_index(drop=True, inplace=True)"
   ]
  },
  {
   "cell_type": "code",
   "execution_count": 71,
   "id": "1b4680d7-91e2-44eb-876f-95030a28d268",
   "metadata": {},
   "outputs": [],
   "source": [
    "combined_sales[\"total_price\"]=combined_sales[\"quantity\"]*combined_sales[\"unit_price\"]\n",
    "combined_sales=combined_sales.groupby([\"product\",\"month\"]).agg({\"quantity\":\"sum\", \"total_price\":\"sum\"})"
   ]
  },
  {
   "cell_type": "code",
   "execution_count": 73,
   "id": "2d83c0e5-bcce-4e0c-b594-7b9895f1c17e",
   "metadata": {},
   "outputs": [
    {
     "data": {
      "text/html": [
       "<div>\n",
       "<style scoped>\n",
       "    .dataframe tbody tr th:only-of-type {\n",
       "        vertical-align: middle;\n",
       "    }\n",
       "\n",
       "    .dataframe tbody tr th {\n",
       "        vertical-align: top;\n",
       "    }\n",
       "\n",
       "    .dataframe thead th {\n",
       "        text-align: right;\n",
       "    }\n",
       "</style>\n",
       "<table border=\"1\" class=\"dataframe\">\n",
       "  <thead>\n",
       "    <tr style=\"text-align: right;\">\n",
       "      <th></th>\n",
       "      <th></th>\n",
       "      <th>quantity</th>\n",
       "      <th>total_price</th>\n",
       "    </tr>\n",
       "    <tr>\n",
       "      <th>product</th>\n",
       "      <th>month</th>\n",
       "      <th></th>\n",
       "      <th></th>\n",
       "    </tr>\n",
       "  </thead>\n",
       "  <tbody>\n",
       "    <tr>\n",
       "      <th rowspan=\"2\" valign=\"top\">Apple</th>\n",
       "      <th>feb</th>\n",
       "      <td>12</td>\n",
       "      <td>6.6</td>\n",
       "    </tr>\n",
       "    <tr>\n",
       "      <th>jan</th>\n",
       "      <td>10</td>\n",
       "      <td>5.0</td>\n",
       "    </tr>\n",
       "    <tr>\n",
       "      <th rowspan=\"2\" valign=\"top\">Banana</th>\n",
       "      <th>feb</th>\n",
       "      <td>6</td>\n",
       "      <td>2.1</td>\n",
       "    </tr>\n",
       "    <tr>\n",
       "      <th>jan</th>\n",
       "      <td>5</td>\n",
       "      <td>1.5</td>\n",
       "    </tr>\n",
       "    <tr>\n",
       "      <th>Mango</th>\n",
       "      <th>feb</th>\n",
       "      <td>3</td>\n",
       "      <td>3.6</td>\n",
       "    </tr>\n",
       "    <tr>\n",
       "      <th>Orange</th>\n",
       "      <th>jan</th>\n",
       "      <td>8</td>\n",
       "      <td>3.2</td>\n",
       "    </tr>\n",
       "  </tbody>\n",
       "</table>\n",
       "</div>"
      ],
      "text/plain": [
       "               quantity  total_price\n",
       "product month                       \n",
       "Apple   feb          12          6.6\n",
       "        jan          10          5.0\n",
       "Banana  feb           6          2.1\n",
       "        jan           5          1.5\n",
       "Mango   feb           3          3.6\n",
       "Orange  jan           8          3.2"
      ]
     },
     "execution_count": 73,
     "metadata": {},
     "output_type": "execute_result"
    }
   ],
   "source": [
    "combined_sales\n"
   ]
  },
  {
   "cell_type": "markdown",
   "id": "d4602c29-c9f3-4a34-a56d-d25976d34f97",
   "metadata": {},
   "source": [
    "combined_sales.to_csv(\"combined_sales.csv\")"
   ]
  },
  {
   "cell_type": "code",
   "execution_count": 80,
   "id": "81e16ed1-34ac-4d41-ab8e-b28aaf698418",
   "metadata": {},
   "outputs": [],
   "source": [
    "combined_sales.to_csv(\"combined_sales.csv\")"
   ]
  },
  {
   "cell_type": "code",
   "execution_count": 86,
   "id": "7bbe157e-b687-481f-9618-3fc7c6c48eb6",
   "metadata": {},
   "outputs": [
    {
     "data": {
      "text/html": [
       "<div>\n",
       "<style scoped>\n",
       "    .dataframe tbody tr th:only-of-type {\n",
       "        vertical-align: middle;\n",
       "    }\n",
       "\n",
       "    .dataframe tbody tr th {\n",
       "        vertical-align: top;\n",
       "    }\n",
       "\n",
       "    .dataframe thead th {\n",
       "        text-align: right;\n",
       "    }\n",
       "</style>\n",
       "<table border=\"1\" class=\"dataframe\">\n",
       "  <thead>\n",
       "    <tr style=\"text-align: right;\">\n",
       "      <th></th>\n",
       "      <th></th>\n",
       "      <th>quantity</th>\n",
       "      <th>total_price</th>\n",
       "    </tr>\n",
       "    <tr>\n",
       "      <th>product</th>\n",
       "      <th>month</th>\n",
       "      <th></th>\n",
       "      <th></th>\n",
       "    </tr>\n",
       "  </thead>\n",
       "  <tbody>\n",
       "    <tr>\n",
       "      <th rowspan=\"2\" valign=\"top\">Apple</th>\n",
       "      <th>feb</th>\n",
       "      <td>12</td>\n",
       "      <td>6.6</td>\n",
       "    </tr>\n",
       "    <tr>\n",
       "      <th>jan</th>\n",
       "      <td>10</td>\n",
       "      <td>5.0</td>\n",
       "    </tr>\n",
       "    <tr>\n",
       "      <th rowspan=\"2\" valign=\"top\">Banana</th>\n",
       "      <th>feb</th>\n",
       "      <td>6</td>\n",
       "      <td>2.1</td>\n",
       "    </tr>\n",
       "    <tr>\n",
       "      <th>jan</th>\n",
       "      <td>5</td>\n",
       "      <td>1.5</td>\n",
       "    </tr>\n",
       "    <tr>\n",
       "      <th>Mango</th>\n",
       "      <th>feb</th>\n",
       "      <td>3</td>\n",
       "      <td>3.6</td>\n",
       "    </tr>\n",
       "    <tr>\n",
       "      <th>Orange</th>\n",
       "      <th>jan</th>\n",
       "      <td>8</td>\n",
       "      <td>3.2</td>\n",
       "    </tr>\n",
       "  </tbody>\n",
       "</table>\n",
       "</div>"
      ],
      "text/plain": [
       "               quantity  total_price\n",
       "product month                       \n",
       "Apple   feb          12          6.6\n",
       "        jan          10          5.0\n",
       "Banana  feb           6          2.1\n",
       "        jan           5          1.5\n",
       "Mango   feb           3          3.6\n",
       "Orange  jan           8          3.2"
      ]
     },
     "execution_count": 86,
     "metadata": {},
     "output_type": "execute_result"
    }
   ],
   "source": [
    "combined_sales\n",
    "\n"
   ]
  },
  {
   "cell_type": "code",
   "execution_count": 90,
   "id": "a76f21c1-d2bd-4008-ae10-85f160e0ccb7",
   "metadata": {},
   "outputs": [
    {
     "data": {
      "text/html": [
       "<div>\n",
       "<style scoped>\n",
       "    .dataframe tbody tr th:only-of-type {\n",
       "        vertical-align: middle;\n",
       "    }\n",
       "\n",
       "    .dataframe tbody tr th {\n",
       "        vertical-align: top;\n",
       "    }\n",
       "\n",
       "    .dataframe thead th {\n",
       "        text-align: right;\n",
       "    }\n",
       "</style>\n",
       "<table border=\"1\" class=\"dataframe\">\n",
       "  <thead>\n",
       "    <tr style=\"text-align: right;\">\n",
       "      <th></th>\n",
       "      <th>quantity</th>\n",
       "      <th>total_price</th>\n",
       "    </tr>\n",
       "    <tr>\n",
       "      <th>quantity</th>\n",
       "      <th></th>\n",
       "      <th></th>\n",
       "    </tr>\n",
       "  </thead>\n",
       "  <tbody>\n",
       "    <tr>\n",
       "      <th>3</th>\n",
       "      <td>3</td>\n",
       "      <td>3.6</td>\n",
       "    </tr>\n",
       "    <tr>\n",
       "      <th>5</th>\n",
       "      <td>5</td>\n",
       "      <td>1.5</td>\n",
       "    </tr>\n",
       "    <tr>\n",
       "      <th>6</th>\n",
       "      <td>6</td>\n",
       "      <td>2.1</td>\n",
       "    </tr>\n",
       "    <tr>\n",
       "      <th>8</th>\n",
       "      <td>8</td>\n",
       "      <td>3.2</td>\n",
       "    </tr>\n",
       "    <tr>\n",
       "      <th>10</th>\n",
       "      <td>10</td>\n",
       "      <td>5.0</td>\n",
       "    </tr>\n",
       "    <tr>\n",
       "      <th>12</th>\n",
       "      <td>12</td>\n",
       "      <td>6.6</td>\n",
       "    </tr>\n",
       "  </tbody>\n",
       "</table>\n",
       "</div>"
      ],
      "text/plain": [
       "          quantity  total_price\n",
       "quantity                       \n",
       "3                3          3.6\n",
       "5                5          1.5\n",
       "6                6          2.1\n",
       "8                8          3.2\n",
       "10              10          5.0\n",
       "12              12          6.6"
      ]
     },
     "execution_count": 90,
     "metadata": {},
     "output_type": "execute_result"
    }
   ],
   "source": [
    "combined_sales.groupby([\"quantity\"]).agg({\"quantity\":\"sum\", \"total_price\":\"sum\"})"
   ]
  },
  {
   "cell_type": "code",
   "execution_count": 92,
   "id": "52f1f44c-ca09-465d-acfb-812753d5838f",
   "metadata": {},
   "outputs": [
    {
     "name": "stdout",
     "output_type": "stream",
     "text": [
      "Index(['quantity', 'total_price'], dtype='object')\n"
     ]
    }
   ],
   "source": [
    "print(combined_sales.columns)"
   ]
  },
  {
   "cell_type": "code",
   "execution_count": 100,
   "id": "c739620e-ae2e-4ec4-994a-c0d65e2416ac",
   "metadata": {},
   "outputs": [],
   "source": [
    "summary=combined_sales.reset_index()\n"
   ]
  },
  {
   "cell_type": "code",
   "execution_count": 98,
   "id": "5f0986f2-684b-4013-8586-a275d17929c8",
   "metadata": {},
   "outputs": [
    {
     "data": {
      "text/plain": [
       "Index(['quantity', 'total_price'], dtype='object')"
      ]
     },
     "execution_count": 98,
     "metadata": {},
     "output_type": "execute_result"
    }
   ],
   "source": [
    "combined_sales.columns"
   ]
  },
  {
   "cell_type": "code",
   "execution_count": 102,
   "id": "63520851-b05d-4b55-9e2b-a156a0333799",
   "metadata": {},
   "outputs": [
    {
     "data": {
      "text/plain": [
       "Index(['product', 'month', 'quantity', 'total_price'], dtype='object')"
      ]
     },
     "execution_count": 102,
     "metadata": {},
     "output_type": "execute_result"
    }
   ],
   "source": [
    "summary.columns\n"
   ]
  },
  {
   "cell_type": "code",
   "execution_count": null,
   "id": "9a844aa2-6161-45ce-bb23-0fce5e0a3b29",
   "metadata": {},
   "outputs": [],
   "source": []
  }
 ],
 "metadata": {
  "kernelspec": {
   "display_name": "Python 3.11 pythondowngrade",
   "language": "python",
   "name": "your_venv_name"
  },
  "language_info": {
   "codemirror_mode": {
    "name": "ipython",
    "version": 3
   },
   "file_extension": ".py",
   "mimetype": "text/x-python",
   "name": "python",
   "nbconvert_exporter": "python",
   "pygments_lexer": "ipython3",
   "version": "3.11.9"
  }
 },
 "nbformat": 4,
 "nbformat_minor": 5
}
